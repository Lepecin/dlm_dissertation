{
 "cells": [
  {
   "cell_type": "code",
   "execution_count": 40,
   "metadata": {},
   "outputs": [],
   "source": [
    "import numpy\n",
    "from numpy import ndarray as Array\n",
    "from typing import Tuple, Dict\n",
    "from dataclasses import dataclass"
   ]
  },
  {
   "cell_type": "code",
   "execution_count": 41,
   "metadata": {},
   "outputs": [],
   "source": [
    "@dataclass\n",
    "class NormalModel:\n",
    "\n",
    "    mean: \"Array\"\n",
    "    covariance: \"Array\"\n",
    "\n",
    "\n",
    "@dataclass\n",
    "class TransitionDensity:\n",
    "\n",
    "    bias: \"Array\"\n",
    "    weights: \"Array\"\n",
    "    covariance: \"Array\"\n",
    "\n"
   ]
  },
  {
   "cell_type": "code",
   "execution_count": null,
   "metadata": {},
   "outputs": [],
   "source": [
    "def transmutator(model: \"NormalModel\", transition: \"TransitionDensity\") -> \"Tuple[NormalModel, TransitionDensity]\":\n",
    "\n",
    "    m1 = model.mean\n",
    "    s1 = model.covariance\n",
    "\n",
    "    a1 = transition.weights\n",
    "    b1 = transition.bias\n",
    "    v1 = transition.covariance\n",
    "\n",
    "    m2: \"Array\" = b1 + a1.dot(m1)\n",
    "    s2: \"Array\" = v1 + a1.dot(s1).dot(a1.T)\n",
    "\n",
    "    a2: \"Array\" = s1.dot(a1.T).dot(numpy.linalg.inv((s2 + s2.T)/2))\n",
    "    b2: \"Array\" = m1 - a2.dot(m2)\n",
    "    v2: \"Array\" = s1 - a2.dot(s2).dot(a2.T)\n",
    "\n",
    "    return (\n",
    "        NormalModel(m2, s2),\n",
    "        TransitionDensity(b2, a2, v2)\n",
    "    )\n",
    "\n"
   ]
  },
  {
   "cell_type": "code",
   "execution_count": null,
   "metadata": {},
   "outputs": [],
   "source": [
    "def transmutator_modelonly(model: \"NormalModel\", transition: \"TransitionDensity\") -> \"NormalModel\":\n",
    "\n",
    "    m1 = model.mean\n",
    "    s1 = model.covariance\n",
    "\n",
    "    a1 = transition.weights\n",
    "    b1 = transition.bias\n",
    "    v1 = transition.covariance\n",
    "\n",
    "    m2: \"Array\" = b1 + a1.dot(m1)\n",
    "    s2: \"Array\" = v1 + a1.dot(s1).dot(a1.T)\n",
    "\n",
    "    return NormalModel(m2, s2)"
   ]
  },
  {
   "cell_type": "code",
   "execution_count": null,
   "metadata": {},
   "outputs": [],
   "source": []
  }
 ],
 "metadata": {
  "kernelspec": {
   "display_name": "Python 3.10.8 ('dlm_dissertation')",
   "language": "python",
   "name": "python3"
  },
  "language_info": {
   "codemirror_mode": {
    "name": "ipython",
    "version": 3
   },
   "file_extension": ".py",
   "mimetype": "text/x-python",
   "name": "python",
   "nbconvert_exporter": "python",
   "pygments_lexer": "ipython3",
   "version": "3.10.8"
  },
  "orig_nbformat": 4,
  "vscode": {
   "interpreter": {
    "hash": "773860821431c5b8f04dacc7a9ce6c2c21322da6bcb71cc068b1a3569c2f8647"
   }
  }
 },
 "nbformat": 4,
 "nbformat_minor": 2
}
